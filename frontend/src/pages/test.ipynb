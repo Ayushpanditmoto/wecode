{
 "cells": [
  {
   "cell_type": "code",
   "execution_count": 6,
   "metadata": {},
   "outputs": [
    {
     "data": {
      "text/plain": [
       "['import AboutPage.jsx from \"../pages/about/AboutPage.jsx\"',\n",
       " 'import AccountPage.jsx from \"../pages/account/AccountPage.jsx\"',\n",
       " 'import BugPage.jsx from \"../pages/bug/BugPage.jsx\"',\n",
       " 'import DiscussPage.jsx from \"../pages/discuss/DiscussPage.jsx\"',\n",
       " 'import ErrorPage.jsx from \"../pages/error/ErrorPage.jsx\"',\n",
       " 'import FeedPage.jsx from \"../pages/feed/FeedPage.jsx\"',\n",
       " 'import Homepage.jsx from \"../pages/homepage/Homepage.jsx\"',\n",
       " 'import index.css from \"../pages/homepage/index.css\"',\n",
       " 'import LearnPage.jsx from \"../pages/learn/LearnPage.jsx\"',\n",
       " 'import PostPage.jsx from \"../pages/post/PostPage.jsx\"',\n",
       " 'import PracticePage.jsx from \"../pages/practice/PracticePage.jsx\"',\n",
       " 'import ProfilePage.jsx from \"../pages/profile/ProfilePage.jsx\"']"
      ]
     },
     "execution_count": 6,
     "metadata": {},
     "output_type": "execute_result"
    }
   ],
   "source": [
    "import os\n",
    "directories = [entry for entry in os.listdir('.') if os.path.isdir(entry)]\n",
    "b=[]\n",
    "for directory in directories:\n",
    "    directory_path = f'''./{directory}'''\n",
    "    files = [entry for entry in os.listdir(directory_path) if os.path.isfile(os.path.join(directory_path, entry))]\n",
    "    for f in files:\n",
    "        b.append(f'import {f} from \"../pages/{directory}/{f}\"')\n",
    "b\n",
    "    "
   ]
  },
  {
   "cell_type": "code",
   "execution_count": 2,
   "metadata": {},
   "outputs": [
    {
     "data": {
      "text/plain": [
       "[{'value': 'Select contest', 'title': ''},\n",
       " {'value': 'Div 1', 'title': 'Div 1'},\n",
       " {'value': 'Div 2', 'title': 'Div 2'},\n",
       " {'value': 'Div 3', 'title': 'Div 3'},\n",
       " {'value': 'Div 4', 'title': 'Div 4'},\n",
       " {'value': 'Div 1 + Div 2', 'title': 'Div 1 + Div 2'},\n",
       " {'value': 'Educational', 'title': 'Educational'},\n",
       " {'value': 'Global', 'title': 'Global'},\n",
       " {'value': 'Gym', 'title': 'Gym'},\n",
       " {'value': 'All contests', 'title': 'All contests'}]"
      ]
     },
     "execution_count": 2,
     "metadata": {},
     "output_type": "execute_result"
    }
   ],
   "source": [
    "from bs4 import BeautifulSoup\n",
    "\n",
    "html_code = '''\n",
    "<option value=\"Select contest\" title=\"\">Select contest :</option>\n",
    "<option value=\"Div 1\" title=\"Div 1\">Div. 1</option>\n",
    "<option value=\"Div 2\" title=\"Div 2\">Div. 2</option>\n",
    "<option value=\"Div 3\" title=\"Div 3\">Div. 3</option>\n",
    "<option value=\"Div 4\" title=\"Div 4\">Div. 4</option>\n",
    "<option value=\"Div 1 + Div 2\" title=\"Div 1 + Div 2\">Div. 1 + Div.2</option>\n",
    "<option value=\"Educational\" title=\"Educational\">Educational</option>\n",
    "<option value=\"Global\" title=\"Global\">Global</option>\n",
    "<option value=\"Gym\" title=\"Gym\">Gym contests</option>\n",
    "<option value=\"All contests\" title=\"All contests\">All contests</option>\n",
    "'''\n",
    "\n",
    "soup = BeautifulSoup(html_code, 'html.parser')\n",
    "\n",
    "options = soup.find_all('option')\n",
    "\n",
    "values = [option['value'] for option in options]\n",
    "titles = [option['title'] for option in options]\n",
    "\n",
    "ans=[]\n",
    "for i in range(len(values)):\n",
    "    ans.append({\n",
    "        \"value\":values[i],\n",
    "        \"title\":titles[i]\n",
    "    })\n",
    "ans"
   ]
  }
 ],
 "metadata": {
  "kernelspec": {
   "display_name": "Python 3",
   "language": "python",
   "name": "python3"
  },
  "language_info": {
   "codemirror_mode": {
    "name": "ipython",
    "version": 3
   },
   "file_extension": ".py",
   "mimetype": "text/x-python",
   "name": "python",
   "nbconvert_exporter": "python",
   "pygments_lexer": "ipython3",
   "version": "3.11.3"
  },
  "orig_nbformat": 4
 },
 "nbformat": 4,
 "nbformat_minor": 2
}

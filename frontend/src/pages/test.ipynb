{
 "cells": [
  {
   "cell_type": "code",
   "execution_count": 6,
   "metadata": {},
   "outputs": [
    {
     "data": {
      "text/plain": [
       "['import AboutPage.jsx from \"../pages/about/AboutPage.jsx\"',\n",
       " 'import AccountPage.jsx from \"../pages/account/AccountPage.jsx\"',\n",
       " 'import BugPage.jsx from \"../pages/bug/BugPage.jsx\"',\n",
       " 'import DiscussPage.jsx from \"../pages/discuss/DiscussPage.jsx\"',\n",
       " 'import ErrorPage.jsx from \"../pages/error/ErrorPage.jsx\"',\n",
       " 'import FeedPage.jsx from \"../pages/feed/FeedPage.jsx\"',\n",
       " 'import Homepage.jsx from \"../pages/homepage/Homepage.jsx\"',\n",
       " 'import index.css from \"../pages/homepage/index.css\"',\n",
       " 'import LearnPage.jsx from \"../pages/learn/LearnPage.jsx\"',\n",
       " 'import PostPage.jsx from \"../pages/post/PostPage.jsx\"',\n",
       " 'import PracticePage.jsx from \"../pages/practice/PracticePage.jsx\"',\n",
       " 'import ProfilePage.jsx from \"../pages/profile/ProfilePage.jsx\"']"
      ]
     },
     "execution_count": 6,
     "metadata": {},
     "output_type": "execute_result"
    }
   ],
   "source": [
    "import os\n",
    "directories = [entry for entry in os.listdir('.') if os.path.isdir(entry)]\n",
    "b=[]\n",
    "for directory in directories:\n",
    "    directory_path = f'''./{directory}'''\n",
    "    files = [entry for entry in os.listdir(directory_path) if os.path.isfile(os.path.join(directory_path, entry))]\n",
    "    for f in files:\n",
    "        b.append(f'import {f} from \"../pages/{directory}/{f}\"')\n",
    "b\n",
    "    "
   ]
  }
 ],
 "metadata": {
  "kernelspec": {
   "display_name": "Python 3",
   "language": "python",
   "name": "python3"
  },
  "language_info": {
   "codemirror_mode": {
    "name": "ipython",
    "version": 3
   },
   "file_extension": ".py",
   "mimetype": "text/x-python",
   "name": "python",
   "nbconvert_exporter": "python",
   "pygments_lexer": "ipython3",
   "version": "3.11.4"
  },
  "orig_nbformat": 4
 },
 "nbformat": 4,
 "nbformat_minor": 2
}
